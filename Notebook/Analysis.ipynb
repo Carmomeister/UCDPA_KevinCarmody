{
 "cells": [
  {
   "cell_type": "code",
   "execution_count": null,
   "id": "eaa42229-019c-43c6-b1c7-5ddd9c646e91",
   "metadata": {
    "scrolled": true,
    "tags": []
   },
   "outputs": [],
   "source": [
    "# Importing Packages Planned on Using in this Project\n",
    "import numpy as np\n",
    "import pandas as pd\n",
    "import seaborn as sns"
   ]
  },
  {
   "cell_type": "code",
   "execution_count": null,
   "id": "bf350bac-e206-4c81-8f05-3127cc1f739f",
   "metadata": {},
   "outputs": [],
   "source": [
    "# Reading / Obtaining CSV information\n",
    "df = pd.read_csv(\"C:/Users/kingc/OneDrive/Desktop/College/UCDPA_KevinCarmody/CSV/indexProcessed.csv\")\n",
    "# Display the first five rows of the dataframe\n",
    "df.head()"
   ]
  },
  {
   "cell_type": "code",
   "execution_count": null,
   "id": "48513aaf-fff9-4c5a-b743-54417ff9525f",
   "metadata": {},
   "outputs": [],
   "source": [
    "# Reading / Obtaining CSV information\n",
    "df_info = pd.read_csv(\"C:/Users/kingc/OneDrive/Desktop/College/UCDPA_KevinCarmody/CSV/indexInfo.csv\")\n",
    "# Display the first five rows of the dataframe\n",
    "df.head()"
   ]
  },
  {
   "cell_type": "code",
   "execution_count": null,
   "id": "4cad3666-8d5f-451a-8d0e-e80eb99c4419",
   "metadata": {},
   "outputs": [],
   "source": [
    "# Merge Information Section with Stock Information using Inner Joins\n",
    "df_merge = df.merge(df_info, on = \"Index\", how =\"inner\" )\n",
    "# Display the first five rows of the dataframe To Check If Merge was Successful\n",
    "df_merge.head()"
   ]
  },
  {
   "cell_type": "code",
   "execution_count": null,
   "id": "8c672b95-80c3-42be-ab3e-cc10a2272abb",
   "metadata": {},
   "outputs": [],
   "source": [
    "# print dataframe information\n",
    "df_merge.info()"
   ]
  },
  {
   "cell_type": "code",
   "execution_count": null,
   "id": "e47676d2-9ab2-4435-b45c-a94569942892",
   "metadata": {},
   "outputs": [],
   "source": [
    "# print dataframe stats information (not in use but nice to see)\n",
    "df_merge.describe()"
   ]
  },
  {
   "cell_type": "code",
   "execution_count": null,
   "id": "08297699-984e-44f4-8fa7-20380240ac09",
   "metadata": {},
   "outputs": [],
   "source": [
    "# Let's convert the dates from string to a date object\n",
    "df_merge['Date'] = pd.to_datetime(df_merge['Date'])"
   ]
  },
  {
   "cell_type": "code",
   "execution_count": null,
   "id": "3bd094bb-7d2f-48eb-a720-d7afeb82c436",
   "metadata": {},
   "outputs": [],
   "source": [
    "# Checking for how many counts per Index (Example: NYA has 13947 instances within the dataframe)\n",
    "df_merge.Index.value_counts()"
   ]
  },
  {
   "cell_type": "code",
   "execution_count": null,
   "id": "6cf64810-f493-4b08-afc3-fb0f49057808",
   "metadata": {},
   "outputs": [],
   "source": [
    "# Checking For Countries Within The Region Column\n",
    "df_merge.Region.value_counts()"
   ]
  }
 ],
 "metadata": {
  "kernelspec": {
   "display_name": "Python 3",
   "language": "python",
   "name": "python3"
  },
  "language_info": {
   "codemirror_mode": {
    "name": "ipython",
    "version": 3
   },
   "file_extension": ".py",
   "mimetype": "text/x-python",
   "name": "python",
   "nbconvert_exporter": "python",
   "pygments_lexer": "ipython3",
   "version": "3.8.8"
  }
 },
 "nbformat": 4,
 "nbformat_minor": 5
}
